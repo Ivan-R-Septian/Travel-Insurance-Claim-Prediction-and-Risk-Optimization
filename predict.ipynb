{
 "cells": [
  {
   "cell_type": "code",
   "execution_count": 1,
   "metadata": {},
   "outputs": [],
   "source": [
    "## imporrt libarary \n",
    "import os\n",
    "import pandas as pd\n",
    "import numpy as np\n",
    "\n",
    "#import google cloud library\n",
    "from google.cloud import bigquery\n",
    "from google.cloud import storage\n",
    "from google.cloud import aiplatform"
   ]
  },
  {
   "cell_type": "code",
   "execution_count": 2,
   "metadata": {},
   "outputs": [
    {
     "data": {
      "text/html": [
       "<div>\n",
       "<style scoped>\n",
       "    .dataframe tbody tr th:only-of-type {\n",
       "        vertical-align: middle;\n",
       "    }\n",
       "\n",
       "    .dataframe tbody tr th {\n",
       "        vertical-align: top;\n",
       "    }\n",
       "\n",
       "    .dataframe thead th {\n",
       "        text-align: right;\n",
       "    }\n",
       "</style>\n",
       "<table border=\"1\" class=\"dataframe\">\n",
       "  <thead>\n",
       "    <tr style=\"text-align: right;\">\n",
       "      <th></th>\n",
       "      <th>Agency</th>\n",
       "      <th>Agency Type</th>\n",
       "      <th>Distribution Channel</th>\n",
       "      <th>Product Name</th>\n",
       "      <th>Gender</th>\n",
       "      <th>Duration</th>\n",
       "      <th>Destination</th>\n",
       "      <th>Net Sales</th>\n",
       "      <th>Commision (in value)</th>\n",
       "      <th>Age</th>\n",
       "    </tr>\n",
       "  </thead>\n",
       "  <tbody>\n",
       "    <tr>\n",
       "      <th>0</th>\n",
       "      <td>EPX</td>\n",
       "      <td>Travel Agency</td>\n",
       "      <td>Online</td>\n",
       "      <td>2 way Comprehensive Plan</td>\n",
       "      <td>NaN</td>\n",
       "      <td>20</td>\n",
       "      <td>CHINA</td>\n",
       "      <td>30.0</td>\n",
       "      <td>0.00</td>\n",
       "      <td>36</td>\n",
       "    </tr>\n",
       "    <tr>\n",
       "      <th>1</th>\n",
       "      <td>CWT</td>\n",
       "      <td>Travel Agency</td>\n",
       "      <td>Online</td>\n",
       "      <td>Rental Vehicle Excess Insurance</td>\n",
       "      <td>Not Specified</td>\n",
       "      <td>140</td>\n",
       "      <td>SPAIN</td>\n",
       "      <td>0.0</td>\n",
       "      <td>23.76</td>\n",
       "      <td>31</td>\n",
       "    </tr>\n",
       "  </tbody>\n",
       "</table>\n",
       "</div>"
      ],
      "text/plain": [
       "  Agency    Agency Type Distribution Channel                     Product Name  \\\n",
       "0    EPX  Travel Agency               Online         2 way Comprehensive Plan   \n",
       "1    CWT  Travel Agency               Online  Rental Vehicle Excess Insurance   \n",
       "\n",
       "          Gender  Duration Destination  Net Sales  Commision (in value)  Age  \n",
       "0            NaN        20       CHINA       30.0                  0.00   36  \n",
       "1  Not Specified       140       SPAIN        0.0                 23.76   31  "
      ]
     },
     "execution_count": 2,
     "metadata": {},
     "output_type": "execute_result"
    }
   ],
   "source": [
    "new_cust = pd.DataFrame({\n",
    "    'Agency': ['EPX','CWT'],\n",
    "    'Agency Type': ['Travel Agency','Travel Agency'], \n",
    "    'Distribution Channel': ['Online','Online'], \n",
    "    'Product Name': ['2 way Comprehensive Plan','Rental Vehicle Excess Insurance'],\n",
    "    'Gender': [np.nan,'Not Specified'],  # Providing a placeholder value\n",
    "    'Duration': [20,140], \n",
    "    'Destination': ['CHINA','SPAIN'], \n",
    "    'Net Sales': [30.0,0.0],\n",
    "    'Commision (in value)': [0.00,23.76], \n",
    "    'Age': [36,31]\n",
    "})\n",
    "new_cust"
   ]
  },
  {
   "cell_type": "code",
   "execution_count": 3,
   "metadata": {},
   "outputs": [],
   "source": [
    "os.environ['GOOGLE_APPLICATION_CREDENTIALS'] = \"/home/ivanrseptian/ivan-038/sa-development.json\""
   ]
  },
  {
   "cell_type": "code",
   "execution_count": 4,
   "metadata": {},
   "outputs": [],
   "source": [
    "project_id = 'dti-ds'\n",
    "dataset_id = 'ivan_dataset_038'\n",
    "table_id = 'x_test_new'\n",
    "region = 'us-central1'\n",
    "bucket_name = 'ivan_gcs_038'\n",
    "blob_name = 'data/X_test_new.csv'"
   ]
  },
  {
   "cell_type": "code",
   "execution_count": 5,
   "metadata": {},
   "outputs": [
    {
     "name": "stdout",
     "output_type": "stream",
     "text": [
      "Uploading model succeeded\n"
     ]
    }
   ],
   "source": [
    "# Upload the model to Google Cloud Storage\n",
    "try : \n",
    "    storage_client = storage.Client(project=project_id)\n",
    "    bucket = storage_client.get_bucket(bucket_name) # Add bucket name\n",
    "    blob_model = bucket.blob('model/final_model_xgb.pkl')\n",
    "    blob_model.download_to_filename('final_model_xgb.pkl')\n",
    "\n",
    "    print (\"Uploading model succeeded\")\n",
    "except:\n",
    "    raise TypeError(\"An exception occurred\")"
   ]
  },
  {
   "cell_type": "code",
   "execution_count": 6,
   "metadata": {},
   "outputs": [
    {
     "name": "stderr",
     "output_type": "stream",
     "text": [
      "/home/ivanrseptian/miniconda3/envs/capstone3-env/lib/python3.11/site-packages/google/cloud/bigquery/table.py:1727: UserWarning: BigQuery Storage module not found, fetch data with the REST endpoint instead.\n",
      "  warnings.warn(\n"
     ]
    }
   ],
   "source": [
    "#load data from BQ\n",
    "## using bigquery client \n",
    "# client = bigquery.Client(credentials=credentials,project=project_id)\n",
    "client = bigquery.Client(project=project_id)\n",
    "\n",
    "# query \n",
    "query_job = client.query(f\"\"\"select * from {dataset_id}.{table_id}\"\"\")\n",
    "df = query_job.result().to_dataframe()\n",
    "df.columns = df.columns.str.replace('_', ' ')\n",
    "df.rename(columns={'Commision  in value ': 'Commision (in value)'}, inplace=True)"
   ]
  },
  {
   "cell_type": "code",
   "execution_count": 7,
   "metadata": {},
   "outputs": [
    {
     "data": {
      "text/plain": [
       "Index(['Agency', 'Agency Type', 'Distribution Channel', 'Product Name',\n",
       "       'Gender', 'Duration', 'Destination', 'Net Sales',\n",
       "       'Commision (in value)', 'Age'],\n",
       "      dtype='object')"
      ]
     },
     "execution_count": 7,
     "metadata": {},
     "output_type": "execute_result"
    }
   ],
   "source": [
    "df.columns"
   ]
  },
  {
   "cell_type": "code",
   "execution_count": 8,
   "metadata": {},
   "outputs": [
    {
     "data": {
      "text/plain": [
       "array([1, 0, 1, ..., 0, 0, 0])"
      ]
     },
     "execution_count": 8,
     "metadata": {},
     "output_type": "execute_result"
    }
   ],
   "source": [
    "from sklearn.preprocessing import FunctionTransformer, OneHotEncoder, RobustScaler\n",
    "import pickle\n",
    "continent_map = {\n",
    "    'SINGAPORE': 'Asia',\n",
    "    'MALAYSIA': 'Asia',\n",
    "    'INDIA': 'Asia',\n",
    "    'UNITED STATES': 'North America',\n",
    "    'KOREA, REPUBLIC OF': 'Asia',\n",
    "    'THAILAND': 'Asia',\n",
    "    'GERMANY': 'Europe',\n",
    "    'JAPAN': 'Asia',\n",
    "    'INDONESIA': 'Asia',\n",
    "    'VIET NAM': 'Asia',\n",
    "    'AUSTRALIA': 'Oceania',\n",
    "    'FINLAND': 'Europe',\n",
    "    'UNITED KINGDOM': 'Europe',\n",
    "    'SRI LANKA': 'Asia',\n",
    "    'SPAIN': 'Europe',\n",
    "    'HONG KONG': 'Asia',\n",
    "    'MACAO': 'Asia',\n",
    "    'CHINA': 'Asia',\n",
    "    'UNITED ARAB EMIRATES': 'Asia',\n",
    "    'IRAN, ISLAMIC REPUBLIC OF': 'Asia',\n",
    "    'TAIWAN, PROVINCE OF CHINA': 'Asia',\n",
    "    'POLAND': 'Europe',\n",
    "    'CANADA': 'North America',\n",
    "    'OMAN': 'Asia',\n",
    "    'PHILIPPINES': 'Asia',\n",
    "    'GREECE': 'Europe',\n",
    "    'BELGIUM': 'Europe',\n",
    "    'TURKEY': 'Asia',\n",
    "    'BRUNEI DARUSSALAM': 'Asia',\n",
    "    'DENMARK': 'Europe',\n",
    "    'SWITZERLAND': 'Europe',\n",
    "    'NETHERLANDS': 'Europe',\n",
    "    'SWEDEN': 'Europe',\n",
    "    'MYANMAR': 'Asia',\n",
    "    'KENYA': 'Africa',\n",
    "    'CZECH REPUBLIC': 'Europe',\n",
    "    'FRANCE': 'Europe',\n",
    "    'RUSSIAN FEDERATION': 'Europe',\n",
    "    'PAKISTAN': 'Asia',\n",
    "    'ARGENTINA': 'South America',\n",
    "    'TANZANIA, UNITED REPUBLIC OF': 'Africa',\n",
    "    'SERBIA': 'Europe',\n",
    "    'ITALY': 'Europe',\n",
    "    'CROATIA': 'Europe',\n",
    "    'NEW ZEALAND': 'Oceania',\n",
    "    'PERU': 'South America',\n",
    "    'MONGOLIA': 'Asia',\n",
    "    'CAMBODIA': 'Asia',\n",
    "    'QATAR': 'Asia',\n",
    "    'NORWAY': 'Europe',\n",
    "    'LUXEMBOURG': 'Europe',\n",
    "    'MALTA': 'Europe',\n",
    "    \"LAO PEOPLE'S DEMOCRATIC REPUBLIC\": 'Asia',\n",
    "    'ISRAEL': 'Asia',\n",
    "    'SAUDI ARABIA': 'Asia',\n",
    "    'AUSTRIA': 'Europe',\n",
    "    'PORTUGAL': 'Europe',\n",
    "    'NEPAL': 'Asia',\n",
    "    'UKRAINE': 'Europe',\n",
    "    'ESTONIA': 'Europe',\n",
    "    'ICELAND': 'Europe',\n",
    "    'BRAZIL': 'South America',\n",
    "    'MEXICO': 'North America',\n",
    "    'CAYMAN ISLANDS': 'North America',\n",
    "    'PANAMA': 'North America',\n",
    "    'BANGLADESH': 'Asia',\n",
    "    'TURKMENISTAN': 'Asia',\n",
    "    'BAHRAIN': 'Asia',\n",
    "    'KAZAKHSTAN': 'Asia',\n",
    "    'TUNISIA': 'Africa',\n",
    "    'IRELAND': 'Europe',\n",
    "    'ETHIOPIA': 'Africa',\n",
    "    'NORTHERN MARIANA ISLANDS': 'Oceania',\n",
    "    'MALDIVES': 'Asia',\n",
    "    'SOUTH AFRICA': 'Africa',\n",
    "    'VENEZUELA': 'South America',\n",
    "    'COSTA RICA': 'North America',\n",
    "    'JORDAN': 'Asia',\n",
    "    'MALI': 'Africa',\n",
    "    'CYPRUS': 'Europe',\n",
    "    'MAURITIUS': 'Africa',\n",
    "    'LEBANON': 'Asia',\n",
    "    'KUWAIT': 'Asia',\n",
    "    'AZERBAIJAN': 'Asia',\n",
    "    'HUNGARY': 'Europe',\n",
    "    'BHUTAN': 'Asia',\n",
    "    'BELARUS': 'Europe',\n",
    "    'MOROCCO': 'Africa',\n",
    "    'ECUADOR': 'South America',\n",
    "    'UZBEKISTAN': 'Asia',\n",
    "    'CHILE': 'South America',\n",
    "    'FIJI': 'Oceania',\n",
    "    'PAPUA NEW GUINEA': 'Oceania',\n",
    "    'ANGOLA': 'Africa',\n",
    "    'FRENCH POLYNESIA': 'Oceania',\n",
    "    'NIGERIA': 'Africa',\n",
    "    'MACEDONIA, THE FORMER YUGOSLAV REPUBLIC OF': 'Europe',\n",
    "    'NAMIBIA': 'Africa',\n",
    "    'GEORGIA': 'Asia',\n",
    "    'COLOMBIA': 'South America',\n",
    "    'SLOVENIA': 'Europe',\n",
    "    'EGYPT': 'Africa',\n",
    "    'ZIMBABWE': 'Africa',\n",
    "    'BULGARIA': 'Europe',\n",
    "    'BERMUDA': 'North America',\n",
    "    'URUGUAY': 'South America',\n",
    "    'GUINEA': 'Africa',\n",
    "    'GHANA': 'Africa',\n",
    "    'BOLIVIA': 'South America',\n",
    "    'TRINIDAD AND TOBAGO': 'North America',\n",
    "    'VANUATU': 'Oceania',\n",
    "    'GUAM': 'Oceania',\n",
    "    'UGANDA': 'Africa',\n",
    "    'JAMAICA': 'North America',\n",
    "    'LATVIA': 'Europe',\n",
    "    'ROMANIA': 'Europe',\n",
    "    'REPUBLIC OF MONTENEGRO': 'Europe',\n",
    "    'KYRGYZSTAN': 'Asia',\n",
    "    'GUADELOUPE': 'North America',\n",
    "    'ZAMBIA': 'Africa',\n",
    "    'RWANDA': 'Africa',\n",
    "    'BOTSWANA': 'Africa',\n",
    "    'GUYANA': 'South America',\n",
    "    'LITHUANIA': 'Europe',\n",
    "    'GUINEA-BISSAU': 'Africa',\n",
    "    'SENEGAL': 'Africa',\n",
    "    'CAMEROON': 'Africa',\n",
    "    'SAMOA': 'Oceania',\n",
    "    'PUERTO RICO': 'North America',\n",
    "    'TAJIKISTAN': 'Asia',\n",
    "    'ARMENIA': 'Asia',\n",
    "    'FAROE ISLANDS': 'Europe',\n",
    "    'DOMINICAN REPUBLIC': 'North America',\n",
    "    'MOLDOVA, REPUBLIC OF': 'Europe',\n",
    "    'BENIN': 'Africa',\n",
    "    'REUNION': 'Africa',\n",
    "    \"KOREA, DEMOCRATIC PEOPLE'S REPUBLIC OF\": 'Asia',\n",
    "    'TIBET': 'Asia'\n",
    "}\n",
    "\n",
    "mapping = {\n",
    "    'Annual Silver Plan': 'Annual Plans',\n",
    "    'Cancellation Plan': 'Specialized Plans',\n",
    "    'Basic Plan': 'Basic Plans',\n",
    "    '2 way Comprehensive Plan': 'Comprehensive Plans',\n",
    "    'Bronze Plan': 'Other',\n",
    "    '1 way Comprehensive Plan': 'Comprehensive Plans',\n",
    "    'Rental Vehicle Excess Insurance': 'Specialized Plans',\n",
    "    'Single Trip Travel Protect Gold': 'Other Plans',\n",
    "    'Silver Plan': 'Other Plans',\n",
    "    'Value Plan': 'Basic Plans',\n",
    "    '24 Protect': 'Other Plans',\n",
    "    'Annual Travel Protect Gold': 'Annual Plans',\n",
    "    'Comprehensive Plan': 'Other',\n",
    "    'Ticket Protector': 'Specialized Plans',\n",
    "    'Travel Cruise Protect': 'Specialized Plans',\n",
    "    'Single Trip Travel Protect Silver': 'Other Plans',\n",
    "    'Individual Comprehensive Plan': 'Comprehensive Plans',\n",
    "    'Gold Plan': 'Other Plans',\n",
    "    'Annual Gold Plan': 'Annual Plans',\n",
    "    'Child Comprehensive Plan': 'Comprehensive Plans',\n",
    "    'Premier Plan': 'Basic Plans',\n",
    "    'Annual Travel Protect Silver': 'Annual Plans',\n",
    "    'Single Trip Travel Protect Platinum': 'Other Plans',\n",
    "    'Annual Travel Protect Platinum': 'Annual Plans',\n",
    "    'Spouse or Parents Comprehensive Plan': 'Other Plans',\n",
    "    'Travel Cruise Protect Family': 'Specialized Plans'\n",
    "}\n",
    "\n",
    "\n",
    "# Define your custom functions and transformers\n",
    "def add_new_column_continent(X):\n",
    "    X = X.copy()\n",
    "    X['Continent'] = X['Destination'].apply(lambda dest: continent_map.get(dest, 'Unknown'))\n",
    "    return X\n",
    "\n",
    "add_column_transformer_continent = FunctionTransformer(add_new_column_continent, validate=False)\n",
    "\n",
    "def add_new_column_product_name_category(Y):\n",
    "    Y = Y.copy()\n",
    "    Y['Product Name Category'] = Y['Product Name'].apply(lambda name: mapping.get(name, 'Unknown'))\n",
    "    return Y\n",
    "\n",
    "add_column_transformer_category = FunctionTransformer(add_new_column_product_name_category, validate=False)\n",
    "\n",
    "\n",
    "\n",
    "\n",
    "# load the model\n",
    "with open('final_model_xgb.pkl','rb') as f:\n",
    "    loaded_model = pickle.load(f)\n",
    "\n",
    "y_pred_cloud = loaded_model.predict(df)\n",
    "y_pred_cloud"
   ]
  },
  {
   "cell_type": "code",
   "execution_count": 9,
   "metadata": {},
   "outputs": [],
   "source": [
    "y_cloud = df.copy()\n",
    "y_cloud['Pred Claim'] = y_pred_cloud\n",
    "y_cloud.rename(columns={'Commision (in value)': 'Commision'}, inplace=True)"
   ]
  },
  {
   "cell_type": "code",
   "execution_count": 10,
   "metadata": {},
   "outputs": [
    {
     "data": {
      "text/plain": [
       "Index(['Agency', 'Agency Type', 'Distribution Channel', 'Product Name',\n",
       "       'Gender', 'Duration', 'Destination', 'Net Sales', 'Commision', 'Age',\n",
       "       'Pred Claim'],\n",
       "      dtype='object')"
      ]
     },
     "execution_count": 10,
     "metadata": {},
     "output_type": "execute_result"
    }
   ],
   "source": [
    "y_cloud.columns"
   ]
  },
  {
   "cell_type": "code",
   "execution_count": 11,
   "metadata": {},
   "outputs": [
    {
     "data": {
      "text/plain": [
       "Index(['Agency', 'Agency Type', 'Distribution Channel', 'Product Name',\n",
       "       'Gender', 'Duration', 'Destination', 'Net Sales',\n",
       "       'Commision (in value)', 'Age'],\n",
       "      dtype='object')"
      ]
     },
     "execution_count": 11,
     "metadata": {},
     "output_type": "execute_result"
    }
   ],
   "source": [
    "df.columns"
   ]
  },
  {
   "cell_type": "code",
   "execution_count": 12,
   "metadata": {},
   "outputs": [],
   "source": [
    "df.rename(columns={'Commision_(in_value)': 'Commision'}, inplace=True)"
   ]
  },
  {
   "cell_type": "code",
   "execution_count": 13,
   "metadata": {},
   "outputs": [
    {
     "data": {
      "text/plain": [
       "array([1, 0])"
      ]
     },
     "execution_count": 13,
     "metadata": {},
     "output_type": "execute_result"
    }
   ],
   "source": [
    "y_pred_cloud_2 = loaded_model.predict(new_cust)\n",
    "y_pred_cloud_2"
   ]
  },
  {
   "cell_type": "code",
   "execution_count": 14,
   "metadata": {},
   "outputs": [],
   "source": [
    "y_cloud_2 = new_cust.copy()\n",
    "y_cloud_2['Pred Claim'] = y_pred_cloud_2\n",
    "y_cloud_2.rename(columns={'Commision (in value)': 'Commision'}, inplace=True)"
   ]
  },
  {
   "cell_type": "code",
   "execution_count": 15,
   "metadata": {},
   "outputs": [
    {
     "data": {
      "text/plain": [
       "Index(['Agency', 'Agency Type', 'Distribution Channel', 'Product Name',\n",
       "       'Gender', 'Duration', 'Destination', 'Net Sales', 'Commision', 'Age',\n",
       "       'Pred Claim'],\n",
       "      dtype='object')"
      ]
     },
     "execution_count": 15,
     "metadata": {},
     "output_type": "execute_result"
    }
   ],
   "source": [
    "y_cloud_2.columns"
   ]
  },
  {
   "cell_type": "code",
   "execution_count": 16,
   "metadata": {},
   "outputs": [
    {
     "name": "stdout",
     "output_type": "stream",
     "text": [
      "Loaded 8866 rows into dti-ds.ivan_dataset_038.new_table_predict_capstone\n"
     ]
    }
   ],
   "source": [
    "from google.cloud import bigquery\n",
    "table_id = 'new_table_predict_capstone'\n",
    "client = bigquery.Client()\n",
    "table_full_id = f\"{client.project}.{dataset_id}.{table_id}\"\n",
    "\n",
    "y_cloud.columns = ['_'.join(i.split(' '))for i in y_cloud.columns]\n",
    "job = client.load_table_from_dataframe(y_cloud, table_full_id)\n",
    "\n",
    "job.result()\n",
    "print(f\"Loaded {job.output_rows} rows into {table_full_id}\") "
   ]
  }
 ],
 "metadata": {
  "kernelspec": {
   "display_name": "capstone-env",
   "language": "python",
   "name": "python3"
  },
  "language_info": {
   "codemirror_mode": {
    "name": "ipython",
    "version": 3
   },
   "file_extension": ".py",
   "mimetype": "text/x-python",
   "name": "python",
   "nbconvert_exporter": "python",
   "pygments_lexer": "ipython3",
   "version": "3.11.9"
  }
 },
 "nbformat": 4,
 "nbformat_minor": 2
}
